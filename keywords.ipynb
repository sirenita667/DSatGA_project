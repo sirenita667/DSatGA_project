{
 "cells": [
  {
   "cell_type": "code",
   "execution_count": 1,
   "metadata": {
    "collapsed": true
   },
   "outputs": [],
   "source": [
    "import numpy as np\n",
    "import pandas as pd\n",
    "import matplotlib.pyplot as plt\n",
    "\n",
    "%matplotlib inline\n",
    "\n"
   ]
  },
  {
   "cell_type": "markdown",
   "metadata": {},
   "source": [
    "##importing csv"
   ]
  },
  {
   "cell_type": "code",
   "execution_count": 2,
   "metadata": {
    "collapsed": false,
    "scrolled": true
   },
   "outputs": [
    {
     "data": {
      "text/html": [
       "<div>\n",
       "<table border=\"1\" class=\"dataframe\">\n",
       "  <thead>\n",
       "    <tr style=\"text-align: right;\">\n",
       "      <th></th>\n",
       "      <th>Log Number</th>\n",
       "      <th>Institution</th>\n",
       "      <th>Program</th>\n",
       "      <th>Program Type</th>\n",
       "      <th>Project Title</th>\n",
       "      <th>Project Type</th>\n",
       "      <th>Award Date</th>\n",
       "      <th>Address</th>\n",
       "      <th>Address 2</th>\n",
       "      <th>Address 3</th>\n",
       "      <th>...</th>\n",
       "      <th>County Code</th>\n",
       "      <th>Census Tract</th>\n",
       "      <th>Census Block</th>\n",
       "      <th>MCD Code</th>\n",
       "      <th>Place Code</th>\n",
       "      <th>CBSA Code</th>\n",
       "      <th>MSAD Code</th>\n",
       "      <th>Description</th>\n",
       "      <th>Location</th>\n",
       "      <th>Organizational Unit Location</th>\n",
       "    </tr>\n",
       "  </thead>\n",
       "  <tbody>\n",
       "    <tr>\n",
       "      <th>0</th>\n",
       "      <td>MG-00-14-0077-14</td>\n",
       "      <td>Exploratorium</td>\n",
       "      <td>National Leadership Grants - Museums</td>\n",
       "      <td>MG</td>\n",
       "      <td>Maker/STEM Education Support for 21st Century ...</td>\n",
       "      <td>NLGMuseums-Out of Cycle</td>\n",
       "      <td>09/26/2014 12:00:00 AM</td>\n",
       "      <td>Pier 15/17</td>\n",
       "      <td>NaN</td>\n",
       "      <td>NaN</td>\n",
       "      <td>...</td>\n",
       "      <td>75</td>\n",
       "      <td>61100</td>\n",
       "      <td>1011</td>\n",
       "      <td>92790</td>\n",
       "      <td>67000</td>\n",
       "      <td>41860</td>\n",
       "      <td>41884</td>\n",
       "      <td>NaN</td>\n",
       "      <td>Pier 15/17\\nSan Francisco, CA 94111-1456\\n</td>\n",
       "      <td>NaN</td>\n",
       "    </tr>\n",
       "    <tr>\n",
       "      <th>1</th>\n",
       "      <td>LG-00-14-0179-14</td>\n",
       "      <td>Digital Public Library of America (DPLA)</td>\n",
       "      <td>National Leadership Grants</td>\n",
       "      <td>LG</td>\n",
       "      <td>Completing the Map: Extending, Streamlining, a...</td>\n",
       "      <td>NaN</td>\n",
       "      <td>09/16/2014 12:00:00 AM</td>\n",
       "      <td>c/o Boston Public Library</td>\n",
       "      <td>700 Boylston St.</td>\n",
       "      <td>NaN</td>\n",
       "      <td>...</td>\n",
       "      <td>25</td>\n",
       "      <td>10702</td>\n",
       "      <td>1005</td>\n",
       "      <td>7000</td>\n",
       "      <td>7000</td>\n",
       "      <td>14460</td>\n",
       "      <td>14454</td>\n",
       "      <td>The Digital Public Library of America will ext...</td>\n",
       "      <td>c/o Boston Public Library\\nBoston, MA 02116\\n</td>\n",
       "      <td>NaN</td>\n",
       "    </tr>\n",
       "  </tbody>\n",
       "</table>\n",
       "<p>2 rows × 36 columns</p>\n",
       "</div>"
      ],
      "text/plain": [
       "         Log Number                               Institution  \\\n",
       "0  MG-00-14-0077-14                             Exploratorium   \n",
       "1  LG-00-14-0179-14  Digital Public Library of America (DPLA)   \n",
       "\n",
       "                                Program Program Type  \\\n",
       "0  National Leadership Grants - Museums           MG   \n",
       "1            National Leadership Grants           LG   \n",
       "\n",
       "                                       Project Title             Project Type  \\\n",
       "0  Maker/STEM Education Support for 21st Century ...  NLGMuseums-Out of Cycle   \n",
       "1  Completing the Map: Extending, Streamlining, a...                      NaN   \n",
       "\n",
       "               Award Date                    Address         Address 2  \\\n",
       "0  09/26/2014 12:00:00 AM                 Pier 15/17               NaN   \n",
       "1  09/16/2014 12:00:00 AM  c/o Boston Public Library  700 Boylston St.   \n",
       "\n",
       "  Address 3             ...              County Code Census Tract  \\\n",
       "0       NaN             ...                       75        61100   \n",
       "1       NaN             ...                       25        10702   \n",
       "\n",
       "  Census Block MCD Code Place Code CBSA Code MSAD Code  \\\n",
       "0         1011    92790      67000     41860     41884   \n",
       "1         1005     7000       7000     14460     14454   \n",
       "\n",
       "                                         Description  \\\n",
       "0                                                NaN   \n",
       "1  The Digital Public Library of America will ext...   \n",
       "\n",
       "                                        Location Organizational Unit Location  \n",
       "0     Pier 15/17\\nSan Francisco, CA 94111-1456\\n                          NaN  \n",
       "1  c/o Boston Public Library\\nBoston, MA 02116\\n                          NaN  \n",
       "\n",
       "[2 rows x 36 columns]"
      ]
     },
     "execution_count": 2,
     "metadata": {},
     "output_type": "execute_result"
    }
   ],
   "source": [
    "d = pd.read_csv('https://raw.githubusercontent.com/sirenita667/DSatGA_project/master/imls.csv')\n",
    "d.head(2)"
   ]
  },
  {
   "cell_type": "markdown",
   "metadata": {},
   "source": [
    "##importing stopwords"
   ]
  },
  {
   "cell_type": "code",
   "execution_count": 3,
   "metadata": {
    "collapsed": false
   },
   "outputs": [],
   "source": [
    "#must install stop-words to use this.  in command prompt, type \"pip install stop-words\" + ENTER\n",
    "#see more at https://pypi.python.org/pypi/stop-words\n",
    "\n",
    "from stop_words import get_stop_words as stop\n",
    "\n",
    "stoop = stop('english')\n",
    "sw = set(stoop)\n",
    "\n"
   ]
  },
  {
   "cell_type": "markdown",
   "metadata": {},
   "source": [
    "##treating d['Project Title'] with stopwords"
   ]
  },
  {
   "cell_type": "code",
   "execution_count": 4,
   "metadata": {
    "collapsed": false
   },
   "outputs": [],
   "source": [
    "title = d['Project Title']"
   ]
  },
  {
   "cell_type": "code",
   "execution_count": 5,
   "metadata": {
    "collapsed": false
   },
   "outputs": [],
   "source": [
    "t = []\n",
    "\n",
    "for i, j in enumerate(title):\n",
    "    try:\n",
    "        if np.isnan(j):\n",
    "            t.append(j)\n",
    "        else:\n",
    "            t.append(j.split())\n",
    "    except:\n",
    "        t.append(j.split())"
   ]
  },
  {
   "cell_type": "code",
   "execution_count": 6,
   "metadata": {
    "collapsed": false
   },
   "outputs": [],
   "source": [
    "tt = []\n",
    "\n",
    "for i, j in enumerate(t):\n",
    "    try:\n",
    "        if np.isnan(j):\n",
    "            tt.append(j)\n",
    "        else:\n",
    "            tt.append(list(set(t[i])-set(sw)))\n",
    "    except:\n",
    "        tt.append(list(set(t[i])-set(sw)))"
   ]
  },
  {
   "cell_type": "code",
   "execution_count": 7,
   "metadata": {
    "collapsed": false
   },
   "outputs": [],
   "source": [
    "ttt= []\n",
    "\n",
    "for i, j in enumerate(tt):\n",
    "    try:\n",
    "        if np.isnan(j):\n",
    "            pass\n",
    "        else:\n",
    "            ttt += tt[i]\n",
    "    except:\n",
    "        ttt += tt[i]"
   ]
  },
  {
   "cell_type": "markdown",
   "metadata": {},
   "source": [
    "##counting"
   ]
  },
  {
   "cell_type": "code",
   "execution_count": 8,
   "metadata": {
    "collapsed": false
   },
   "outputs": [],
   "source": [
    "from collections import Counter\n",
    "from operator import itemgetter\n",
    "\n",
    "\n",
    "cc = Counter(ttt)\n",
    "cc = sorted(cc.items(), reverse = True, key =itemgetter(1,0))"
   ]
  },
  {
   "cell_type": "markdown",
   "metadata": {},
   "source": [
    "##adding titleList as new columns in d"
   ]
  },
  {
   "cell_type": "code",
   "execution_count": 9,
   "metadata": {
    "collapsed": false
   },
   "outputs": [],
   "source": [
    "\n",
    "d['titleList'] = pd.Series(tt)"
   ]
  },
  {
   "cell_type": "code",
   "execution_count": 10,
   "metadata": {
    "collapsed": false
   },
   "outputs": [
    {
     "data": {
      "text/plain": [
       "['Log Number',\n",
       " 'Institution',\n",
       " 'Program',\n",
       " 'Program Type',\n",
       " 'Project Title',\n",
       " 'Project Type',\n",
       " 'Award Date',\n",
       " 'Address',\n",
       " 'Address 2',\n",
       " 'Address 3',\n",
       " 'City',\n",
       " 'State',\n",
       " 'Zip Code',\n",
       " 'Total Amount Originally Awarded',\n",
       " 'Total Amount Awarded and Disbursed',\n",
       " 'Applicant Matching Amount',\n",
       " 'Requested Award Amount',\n",
       " 'Requested Matching Amount',\n",
       " 'Title of Principal Investigator',\n",
       " 'First Name',\n",
       " 'Last Name',\n",
       " 'Organization Type',\n",
       " 'Fiscal Year',\n",
       " 'Award Period From',\n",
       " 'Award Period To',\n",
       " 'Organizational Unit',\n",
       " 'County Code',\n",
       " 'Census Tract',\n",
       " 'Census Block',\n",
       " 'MCD Code',\n",
       " 'Place Code',\n",
       " 'CBSA Code',\n",
       " 'MSAD Code',\n",
       " 'Description',\n",
       " 'Location',\n",
       " 'Organizational Unit Location',\n",
       " 'titleList']"
      ]
     },
     "execution_count": 10,
     "metadata": {},
     "output_type": "execute_result"
    }
   ],
   "source": [
    "list(d)\n",
    "\n",
    "\n",
    "#while descList contains more keywords overall, \n",
    "#it populates less records than titleList which \n",
    "#has (assumably) every record populated.  test to see."
   ]
  },
  {
   "cell_type": "code",
   "execution_count": 11,
   "metadata": {
    "collapsed": false
   },
   "outputs": [
    {
     "data": {
      "text/plain": [
       "{'nothing'}"
      ]
     },
     "execution_count": 11,
     "metadata": {},
     "output_type": "execute_result"
    }
   ],
   "source": [
    "m = []\n",
    "\n",
    "for i in enumerate(d.titleList):\n",
    "    try:\n",
    "        if np.isnan(d.titleList):\n",
    "            print d[i]\n",
    "    except:\n",
    "        m.append('nothing')\n",
    "        \n",
    "set(m)\n",
    "\n",
    "\n",
    "#proves that all records have a title, which makes it more consistent than using description (d.descList)"
   ]
  },
  {
   "cell_type": "markdown",
   "metadata": {},
   "source": [
    "##searching by keywords \"museum\" or \"library\""
   ]
  },
  {
   "cell_type": "code",
   "execution_count": 12,
   "metadata": {
    "collapsed": false
   },
   "outputs": [
    {
     "name": "stdout",
     "output_type": "stream",
     "text": [
      "[0, 0, 0, 0, 0, 0, 0, 0, 0, 0, 0, 0, 0, 0, 0, 0, 0, 0, 0, 0, 0, 0, 0, 0, 0, 0, 0, 0, 0, 0, 0, ['Libraries', 'Natural', 'Poetry', 'Museums', 'Through', 'Discovering', 'World', 'History'], 0, 0, 0, 0, 0, 0, 0, 0, 0, 0, 0, 0, 0, 0, 0, 0, 0, 0, 0, 0, 0, 0, 0, 0, 0, 0, 0, 0, 0, 0, 0, 0, 0, 0, 0, 0, 0, 0, 0, 0, 0, 0, 0, 0, ['Disaster', 'Recovery', 'File>Save:', 'Museums', \"Diego's\", 'Digital', 'Prevention', 'San'], 0, 0, 0, ['Building', 'Practicing', 'Network', \"Children's\", 'Museum', '2:', 'Research', 'Field', 'Agenda', 'Phase'], 0, 0, 0, ['Integrating', 'Museum', 'Mission', 'Money,', 'Food,', 'Cafes:'], 0, 0, 0, ['Engage', 'Norman', \"Rockwell's\", 'Multimedia', '-', \"Museum's\", 'Experiences', 'Audiences', 'Rockwell', 'World', 'Digital', 'Collections', 'Interactive'], 0, 0, 0, 0, 0, 0, ['Mansion', 'Environmental', 'Museum', 'Improvements', 'Maymont'], 0, 0, 0, 0]\n",
      "[0, 0, 0, 0, 0, 0, 0, 0, 0, 0, 0, 0, 0, 0, 0, 0, 0, 0, 0, 0, 0, 0, 0, 0, 0, 0, 0, 0, 0, 0, 0, 1, 0, 0, 0, 0, 0, 0, 0, 0, 0, 0, 0, 0, 0, 0, 0, 0, 0, 0, 0, 0, 0, 0, 0, 0, 0, 0, 0, 0, 0, 0, 0, 0, 0, 0, 0, 0, 0, 0, 0, 0, 0, 0, 0, 0, 1, 0, 0, 0, 1, 0, 0, 0, 1, 0, 0, 0, 1, 0, 0, 0, 0, 0, 0, 1, 0, 0, 0, 0]\n"
     ]
    }
   ],
   "source": [
    " #find any form of museum or library with capital or lowercase, or plural...\n",
    "\n",
    "import re\n",
    "\n",
    "useum = []\n",
    "useumDum = []\n",
    "\n",
    "for f in d.titleList:    \n",
    "    if re.search(\"useum\", str(f)):\n",
    "        useum.append(f)\n",
    "        useumDum.append(1)\n",
    "    else:\n",
    "        useum.append(0)\n",
    "        useumDum.append(0)\n",
    "        \n",
    "\n",
    "print useum[0:100]\n",
    "print useumDum[0:100]"
   ]
  },
  {
   "cell_type": "code",
   "execution_count": 13,
   "metadata": {
    "collapsed": false,
    "scrolled": true
   },
   "outputs": [
    {
     "name": "stdout",
     "output_type": "stream",
     "text": [
      "[0, 0, 0, 0, 0, 0, 0, 0, ['Involved:', 'Get', 'Your', 'Library', 'Powered'], ['Librarians', 'School', 'Advancing', 'Learning', 'STEM'], 0, 0, 0, 0, 0, 0, 0, ['Possibilities', 'Libraries', 'Services', 'Veterans:', 'Identifying'], 0, ['Making:', 'Content', 'Makerspaces', 'Library', 'Zine', 'Academic', 'Critical'], 0, 0, 0, 0, 0, 0, 0, 0, ['Libraries', 'Age', 'Engagement', 'Community', 'Digital'], 0, 0, ['Libraries', 'Natural', 'Poetry', 'Museums', 'Through', 'Discovering', 'World', 'History'], ['Gaming', '21st', 'GOAL21', 'Century', 'Opportunities', 'Libraries', 'Academic'], 0, 0, ['Community', 'Rancheria', 'Graton', 'Library'], ['Intergenerational', 'STEAM', 'Library', 'Jawn:', 'Initiative', 'An', 'Maker'], ['Advisory', 'Whole', 'Library', 'Growing', 'Readers:', 'Readers???', 'Community', 'Services', 'Providing', 'Approach'], ['Development', 'Case', 'Business', 'Appalachian', 'Study', 'Libraries', 'Economic', 'A', 'Rural', 'Small', 'Region:', 'The', 'Public', 'Role'], 0, ['Project', 'CMN', 'Enhancement', 'Library'], ['A', '@', 'Madison', 'Libraries:', 'system-wide', 'learning', 'making', 'Bubbler', 'approach', 'Public'], 0, 0, 0, 0, 0, ['En', 'Libraryhancement', 'Grant', 'Community', 'Mescalero', 'Apache'], ['2014', 'Enhancement', 'Oneida', 'Library', 'Grant'], ['Grant', 'Facility', 'Library', 'Cultural', 'Enhancement', 'Resources', 'Pechanga'], 0, 0, ['A', 'Serving', 'Targeting', 'Forum', 'National', 'Autism:', 'Spectrum', 'Library', 'Patrons'], ['Grant', 'Library', 'American', 'Enhancement', 'Services', 'Native'], ['Libraries:', 'Customer-Driven', 'Patron', 'Power', 'Understanding'], ['Building', 'Media', 'Support', 'Children', 'Digital', 'Libraries:', 'Age', 'Smart', 'Partnerships'], 0, ['Courte', 'Superior', 'Oreilles', 'Chippewa', 'Lake', 'Library', 'Lac', 'Band', 'American', 'Enhancement', 'Project:', 'Services', 'The', 'Native'], 0, 0, ['Enhancing', 'Tribal', 'Library', 'Foundation:', 'Improving', 'Services', 'Our', 'Collaboration', 'Updating'], 0, 0, 0, 0, ['Examining', 'Equalizing', 'opportunity', 'solving', 'library', 'success:', 'patrons', 'rich', 'problem', 'technology', 'public'], 0, 0, ['Supporting', 'Action:', 'SPELL', 'Early', 'Libraries', 'Putting', 'Parents', 'Literacy'], ['Project', 'Community', 'Library'], 0, 0, 0, 0, 0, 0, 0, 0, 0, 0, 0, 0, 0, 0, 0, 0, 0, 0, 0, 0, 0, 0, 0, 0, 0, 0, 0, 0, 0, 0]\n",
      "[0, 0, 0, 0, 0, 0, 0, 0, 1, 1, 0, 0, 0, 0, 0, 0, 0, 1, 0, 1, 0, 0, 0, 0, 0, 0, 0, 0, 1, 0, 0, 1, 1, 0, 0, 1, 1, 1, 1, 0, 1, 1, 0, 0, 0, 0, 0, 1, 1, 1, 0, 0, 1, 1, 1, 1, 0, 1, 0, 0, 1, 0, 0, 0, 0, 1, 0, 0, 1, 1, 0, 0, 0, 0, 0, 0, 0, 0, 0, 0, 0, 0, 0, 0, 0, 0, 0, 0, 0, 0, 0, 0, 0, 0, 0, 0, 0, 0, 0, 0]\n"
     ]
    }
   ],
   "source": [
    "ibrar = []\n",
    "ibrarDum = []\n",
    "\n",
    "for f in d.titleList:    \n",
    "    if re.search(\"ibrar\", str(f)):\n",
    "        ibrar.append(f)\n",
    "        ibrarDum.append(1)\n",
    "    else:\n",
    "        ibrar.append(0)\n",
    "        ibrarDum.append(0)\n",
    "        \n",
    "\n",
    "print ibrar[0:100]\n",
    "print ibrarDum[0:100]"
   ]
  },
  {
   "cell_type": "markdown",
   "metadata": {},
   "source": [
    "##adding features to d (from original string-form)"
   ]
  },
  {
   "cell_type": "code",
   "execution_count": 14,
   "metadata": {
    "collapsed": false
   },
   "outputs": [
    {
     "name": "stdout",
     "output_type": "stream",
     "text": [
      "0    750000\n",
      "1    999485\n",
      "2    275000\n",
      "3    698606\n",
      "Name: Total Amount Awarded and Disbursed, dtype: float64\n"
     ]
    }
   ],
   "source": [
    "aa = d['Total Amount Awarded and Disbursed']\n",
    "\n",
    "for a in aa:\n",
    "    aa = aa.replace(a, float(a.replace('$', \"\")))\n",
    "print aa[0:4]"
   ]
  },
  {
   "cell_type": "code",
   "execution_count": 15,
   "metadata": {
    "collapsed": false,
    "scrolled": true
   },
   "outputs": [
    {
     "name": "stdout",
     "output_type": "stream",
     "text": [
      "13594\n",
      "[datetime.datetime(2014, 9, 26, 0, 0), datetime.datetime(2014, 9, 16, 0, 0), datetime.datetime(2014, 9, 12, 0, 0), datetime.datetime(2014, 9, 12, 0, 0)]\n",
      "13594\n",
      "13594\n"
     ]
    }
   ],
   "source": [
    "from datetime import datetime\n",
    "\n",
    "#09/26/2014 12:00:00 AM\n",
    "\n",
    "\n",
    "\n",
    "bb = []\n",
    "\n",
    "for b in d['Award Date']:\n",
    "    try:\n",
    "        if np.isnan(b):\n",
    "            bb.append(b)\n",
    "        else:\n",
    "            bb.append(datetime.strptime(b, '%m/%d/%Y %I:%M:%S %p'))\n",
    "    except:\n",
    "        bb.append(datetime.strptime(b, '%m/%d/%Y %I:%M:%S %p'))\n",
    "        \n",
    "print len(aa)\n",
    "print bb[0:4]\n",
    "print len(bb)\n",
    "print len(d)"
   ]
  },
  {
   "cell_type": "code",
   "execution_count": 16,
   "metadata": {
    "collapsed": false
   },
   "outputs": [],
   "source": [
    "d['totAward_float'] = pd.Series(aa)\n",
    "d['date_asTime'] = pd.Series(bb)\n",
    "d['museum_dummies'] = pd.Series(useumDum)\n",
    "d['library_dummies'] = pd.Series(ibrarDum)\n",
    "d['date_delta'] = (d.date_asTime - d.date_asTime.min())/np.timedelta64(1, 'D')"
   ]
  },
  {
   "cell_type": "code",
   "execution_count": 17,
   "metadata": {
    "collapsed": false
   },
   "outputs": [
    {
     "data": {
      "text/plain": [
       "6757.0"
      ]
     },
     "execution_count": 17,
     "metadata": {},
     "output_type": "execute_result"
    }
   ],
   "source": [
    "(d.date_asTime.max() - d.date_asTime.min())/np.timedelta64(1, 'D')"
   ]
  },
  {
   "cell_type": "code",
   "execution_count": 18,
   "metadata": {
    "collapsed": false
   },
   "outputs": [
    {
     "name": "stdout",
     "output_type": "stream",
     "text": [
      "(13594, 13581)\n"
     ]
    }
   ],
   "source": [
    "#taking out records were d.date_asTime are NaN\n",
    "\n",
    "d1 = d[~pd.isnull(d.date_asTime)]\n",
    "\n",
    "print(len(d), len(d1))"
   ]
  },
  {
   "cell_type": "markdown",
   "metadata": {},
   "source": [
    "##plotting by \"museum\"-like keywords"
   ]
  },
  {
   "cell_type": "code",
   "execution_count": 19,
   "metadata": {
    "collapsed": false
   },
   "outputs": [
    {
     "data": {
      "text/plain": [
       "<matplotlib.text.Text at 0x109e0828>"
      ]
     },
     "execution_count": 19,
     "metadata": {},
     "output_type": "execute_result"
    },
    {
     "data": {
      "image/png": "[encoded data removed]",
      "text/plain": [
       "<matplotlib.figure.Figure at 0xc2a1fd0>"
      ]
     },
     "metadata": {},
     "output_type": "display_data"
    }
   ],
   "source": [
    "\n",
    "\n",
    "xM = (d1[(d1.museum_dummies==1)].date_asTime).reshape(737, 1)\n",
    "yM = (d1[(d1.museum_dummies==1)].totAward_float).reshape(737, 1)\n",
    "\n",
    "plt.figure(figsize = (10,10))\n",
    "plt.scatter(xM, yM, c='orchid')\n",
    "plt.ylim(ymin= 0)\n",
    "plt.xlabel('year')\n",
    "plt.ylabel('$')\n",
    "plt.title('\"museum\"-like keywords')\n"
   ]
  },
  {
   "cell_type": "code",
   "execution_count": 20,
   "metadata": {
    "collapsed": false
   },
   "outputs": [
    {
     "data": {
      "text/plain": [
       "590"
      ]
     },
     "execution_count": 20,
     "metadata": {},
     "output_type": "execute_result"
    }
   ],
   "source": [
    "len(d1[(d1.library_dummies==1)].date_asTime)"
   ]
  },
  {
   "cell_type": "markdown",
   "metadata": {},
   "source": [
    "##plotting by \"library\"-like keywords"
   ]
  },
  {
   "cell_type": "code",
   "execution_count": 21,
   "metadata": {
    "collapsed": false
   },
   "outputs": [
    {
     "data": {
      "text/plain": [
       "<matplotlib.text.Text at 0x10cf8ef0>"
      ]
     },
     "execution_count": 21,
     "metadata": {},
     "output_type": "execute_result"
    },
    {
     "data": {
      "image/png": "[encoded data removed]",
      "text/plain": [
       "<matplotlib.figure.Figure at 0x10632780>"
      ]
     },
     "metadata": {},
     "output_type": "display_data"
    }
   ],
   "source": [
    "\n",
    "\n",
    "xL = (d1[(d1.library_dummies==1)].date_asTime).reshape(590, 1)\n",
    "yL = (d1[(d1.library_dummies==1)].totAward_float).reshape(590, 1)\n",
    "\n",
    "plt.figure(figsize = (10,10))\n",
    "plt.scatter(xL, yL, c='hotpink')\n",
    "plt.ylim(ymin= 0)\n",
    "plt.xlabel('year')\n",
    "plt.ylabel('$')\n",
    "plt.title('\"library\"-like keywords')\n"
   ]
  },
  {
   "cell_type": "code",
   "execution_count": 22,
   "metadata": {
    "collapsed": false
   },
   "outputs": [
    {
     "data": {
      "text/plain": [
       "((590L, 1L), (590L, 1L))"
      ]
     },
     "execution_count": 22,
     "metadata": {},
     "output_type": "execute_result"
    }
   ],
   "source": [
    "xL.shape, yL.shape"
   ]
  },
  {
   "cell_type": "markdown",
   "metadata": {},
   "source": [
    "##finding sums for keywords over time and plotting with  linear regression-line"
   ]
  },
  {
   "cell_type": "code",
   "execution_count": 23,
   "metadata": {
    "collapsed": false
   },
   "outputs": [],
   "source": [
    "from sklearn import linear_model\n",
    "\n",
    "\n",
    "\n",
    "rgr = linear_model.LinearRegression()\n",
    "\n"
   ]
  },
  {
   "cell_type": "code",
   "execution_count": 24,
   "metadata": {
    "collapsed": false
   },
   "outputs": [
    {
     "data": {
      "text/html": [
       "<div>\n",
       "<table border=\"1\" class=\"dataframe\">\n",
       "  <thead>\n",
       "    <tr style=\"text-align: right;\">\n",
       "      <th></th>\n",
       "      <th>date_asTime</th>\n",
       "      <th>date_delta</th>\n",
       "      <th>totAward_float</th>\n",
       "    </tr>\n",
       "  </thead>\n",
       "  <tbody>\n",
       "    <tr>\n",
       "      <th>13322</th>\n",
       "      <td>1996-08-22</td>\n",
       "      <td>148</td>\n",
       "      <td>43150</td>\n",
       "    </tr>\n",
       "    <tr>\n",
       "      <th>13300</th>\n",
       "      <td>1996-08-22</td>\n",
       "      <td>148</td>\n",
       "      <td>31330</td>\n",
       "    </tr>\n",
       "    <tr>\n",
       "      <th>13301</th>\n",
       "      <td>1996-08-22</td>\n",
       "      <td>148</td>\n",
       "      <td>32902</td>\n",
       "    </tr>\n",
       "    <tr>\n",
       "      <th>13302</th>\n",
       "      <td>1996-08-22</td>\n",
       "      <td>148</td>\n",
       "      <td>30500</td>\n",
       "    </tr>\n",
       "    <tr>\n",
       "      <th>13303</th>\n",
       "      <td>1996-08-22</td>\n",
       "      <td>148</td>\n",
       "      <td>3500</td>\n",
       "    </tr>\n",
       "  </tbody>\n",
       "</table>\n",
       "</div>"
      ],
      "text/plain": [
       "      date_asTime  date_delta  totAward_float\n",
       "13322  1996-08-22         148           43150\n",
       "13300  1996-08-22         148           31330\n",
       "13301  1996-08-22         148           32902\n",
       "13302  1996-08-22         148           30500\n",
       "13303  1996-08-22         148            3500"
      ]
     },
     "execution_count": 24,
     "metadata": {},
     "output_type": "execute_result"
    }
   ],
   "source": [
    "dMuseum = d1[(d1.museum_dummies==1)][['date_asTime', 'date_delta', 'totAward_float']].sort(['date_asTime'])\n",
    "\n",
    "\n",
    "\n",
    "\n",
    "len(dMuseum)\n",
    "dMuseum.head()"
   ]
  },
  {
   "cell_type": "code",
   "execution_count": 25,
   "metadata": {
    "collapsed": false
   },
   "outputs": [
    {
     "data": {
      "text/plain": [
       "120"
      ]
     },
     "execution_count": 25,
     "metadata": {},
     "output_type": "execute_result"
    }
   ],
   "source": [
    "dateSet = list(set(dMuseum['date_asTime']))\n",
    "len(dateSet)\n"
   ]
  },
  {
   "cell_type": "code",
   "execution_count": 26,
   "metadata": {
    "collapsed": false
   },
   "outputs": [],
   "source": [
    "museumAwardSums = []\n",
    "\n",
    "for i in dateSet:\n",
    "    museumAwardSums.append(sum(dMuseum[(dMuseum.date_asTime == i)]['totAward_float']))\n"
   ]
  },
  {
   "cell_type": "code",
   "execution_count": 27,
   "metadata": {
    "collapsed": false,
    "scrolled": false
   },
   "outputs": [
    {
     "name": "stdout",
     "output_type": "stream",
     "text": [
      "Museum-sum coefficient [ 19.13858198]\n",
      "Museum-sum intercept 733033.660644\n"
     ]
    },
    {
     "data": {
      "text/plain": [
       "<matplotlib.text.Text at 0x1b3b2e80>"
      ]
     },
     "execution_count": 27,
     "metadata": {},
     "output_type": "execute_result"
    },
    {
     "data": {
      "image/png": "[encoded data removed]",
      "text/plain": [
       "<matplotlib.figure.Figure at 0x4c4b240>"
      ]
     },
     "metadata": {},
     "output_type": "display_data"
    }
   ],
   "source": [
    "#museumAwardSums is the sum of awards for each date (y), only for records that contain \"museum\"-like keywords\n",
    "#dateSet is the dates (x).  both are length 120.  plot please.\n",
    "\n",
    "\n",
    "xM1 = np.array(list(set(dMuseum.date_delta))).reshape(120,1)\n",
    "yM1 = np.array(museumAwardSums)\n",
    "\n",
    "rgrM1 = rgr\n",
    "rgrM1.fit(xM1, yM1)\n",
    "\n",
    "print(\"Museum-sum coefficient {}\".format(rgrM1.coef_))\n",
    "print(\"Museum-sum intercept {}\".format(rgrM1.intercept_))\n",
    "\n",
    "plt.figure(figsize = (10,10))\n",
    "plt.scatter(xM1,yM1, c='pink')\n",
    "plt.plot(xM1, rgrM1.predict(xM1), c = 'deeppink')\n",
    "plt.xlim(xmin = 0, xmax = 7000)\n",
    "plt.ylim(ymin = 0)\n",
    "plt.xlabel('year')\n",
    "plt.ylabel('$')\n",
    "plt.title('sum of \"museum\"-like keywords')\n",
    "\n",
    "#omfg i did it.\n"
   ]
  },
  {
   "cell_type": "markdown",
   "metadata": {},
   "source": [
    "### sum award amounts for \"library\""
   ]
  },
  {
   "cell_type": "code",
   "execution_count": 28,
   "metadata": {
    "collapsed": false
   },
   "outputs": [
    {
     "name": "stdout",
     "output_type": "stream",
     "text": [
      "590\n"
     ]
    }
   ],
   "source": [
    "dLib = d1[(d1.library_dummies==1)][['date_asTime', 'date_delta', 'totAward_float']].sort(['date_asTime'])\n",
    "\n",
    "\n",
    "\n",
    "\n",
    "print len(dLib)\n"
   ]
  },
  {
   "cell_type": "code",
   "execution_count": 29,
   "metadata": {
    "collapsed": false
   },
   "outputs": [
    {
     "data": {
      "text/plain": [
       "100"
      ]
     },
     "execution_count": 29,
     "metadata": {},
     "output_type": "execute_result"
    }
   ],
   "source": [
    "dateSet = list(set(dLib['date_asTime']))\n",
    "len(dateSet)"
   ]
  },
  {
   "cell_type": "code",
   "execution_count": 30,
   "metadata": {
    "collapsed": false
   },
   "outputs": [],
   "source": [
    "libAwardSums = []\n",
    "\n",
    "for i in dateSet:\n",
    "    libAwardSums.append(sum(dLib[(dLib.date_asTime == i)]['totAward_float']))"
   ]
  },
  {
   "cell_type": "code",
   "execution_count": 31,
   "metadata": {
    "collapsed": false
   },
   "outputs": [
    {
     "name": "stdout",
     "output_type": "stream",
     "text": [
      "Library-sum coefficient [ 403.39744378]\n",
      "Library-sum intercept 65337.0277025\n"
     ]
    },
    {
     "data": {
      "text/plain": [
       "(0, 23000000.0)"
      ]
     },
     "execution_count": 31,
     "metadata": {},
     "output_type": "execute_result"
    },
    {
     "data": {
      "image/png": "[encoded data removed]",
      "text/plain": [
       "<matplotlib.figure.Figure at 0x1b2f9518>"
      ]
     },
     "metadata": {},
     "output_type": "display_data"
    }
   ],
   "source": [
    "xL1 = np.array(list(set(dLib.date_delta))).reshape(100,1)\n",
    "yL1 = np.array(libAwardSums)\n",
    "\n",
    "rgrL1 = rgr\n",
    "rgrL1.fit(xL1, yL1)\n",
    "\n",
    "print(\"Library-sum coefficient {}\".format(rgrL1.coef_))\n",
    "print(\"Library-sum intercept {}\".format(rgrL1.intercept_))\n",
    "\n",
    "\n",
    "plt.figure(figsize = (10,10))\n",
    "plt.scatter(xL1,yL1, c='thistle')\n",
    "plt.plot(xL1, rgrL1.predict(xL1), c = 'indigo')\n",
    "plt.xlabel('year')\n",
    "plt.ylabel('$')\n",
    "plt.title('sum of \"library\"-like keywords')\n",
    "plt.xlim(xmin = 0, xmax = 7000)\n",
    "plt.ylim(ymin = 0, ymax = 2.3E7)\n"
   ]
  },
  {
   "cell_type": "markdown",
   "metadata": {},
   "source": [
    "###repeating with \"history\"-like keywords"
   ]
  },
  {
   "cell_type": "code",
   "execution_count": 32,
   "metadata": {
    "collapsed": false
   },
   "outputs": [
    {
     "name": "stdout",
     "output_type": "stream",
     "text": [
      "13594 set([0, 1])\n"
     ]
    }
   ],
   "source": [
    "# \"histor-\" keyword\n",
    "\n",
    "historDum = []\n",
    "\n",
    "for f in d.titleList:\n",
    "    if re.search(\"histor\", str(f)):\n",
    "        historDum.append(1)\n",
    "    elif re.search(\"Histor\", str(f)):\n",
    "        historDum.append(1)\n",
    "    else:\n",
    "        historDum.append(0)\n",
    "\n",
    "print len(historDum), set(historDum)"
   ]
  },
  {
   "cell_type": "code",
   "execution_count": 33,
   "metadata": {
    "collapsed": false
   },
   "outputs": [],
   "source": [
    "d2 = d"
   ]
  },
  {
   "cell_type": "code",
   "execution_count": 34,
   "metadata": {
    "collapsed": false
   },
   "outputs": [
    {
     "name": "stdout",
     "output_type": "stream",
     "text": [
      "(13594, 13581)\n"
     ]
    }
   ],
   "source": [
    "d2['histor'] = historDum\n",
    "\n",
    "d2 = d2[~pd.isnull(d2.date_asTime)]\n",
    "\n",
    "print(len(d), len(d2))"
   ]
  },
  {
   "cell_type": "code",
   "execution_count": 35,
   "metadata": {
    "collapsed": false
   },
   "outputs": [
    {
     "data": {
      "text/plain": [
       "300"
      ]
     },
     "execution_count": 35,
     "metadata": {},
     "output_type": "execute_result"
    }
   ],
   "source": [
    "len(d2[d2.histor ==1])"
   ]
  },
  {
   "cell_type": "code",
   "execution_count": 36,
   "metadata": {
    "collapsed": false
   },
   "outputs": [
    {
     "data": {
      "text/plain": [
       "<matplotlib.text.Text at 0x1b7f9a90>"
      ]
     },
     "execution_count": 36,
     "metadata": {},
     "output_type": "execute_result"
    },
    {
     "data": {
      "image/png": "[encoded data removed]",
      "text/plain": [
       "<matplotlib.figure.Figure at 0x1b310208>"
      ]
     },
     "metadata": {},
     "output_type": "display_data"
    }
   ],
   "source": [
    "xH = (d2[(d2.histor==1)].date_asTime).reshape(300, 1)\n",
    "xH2 = (d2[(d2.histor==1)].date_delta).reshape(300, 1)  #for later\n",
    "yH = (d2[(d2.histor==1)].totAward_float).reshape(300, 1)\n",
    "\n",
    "plt.figure(figsize = (5,5))\n",
    "plt.scatter(xH, yH, c='plum')\n",
    "plt.ylim(ymin= 0)\n",
    "plt.xlabel('year')\n",
    "plt.ylabel('$')\n",
    "plt.title('\"history\"-like keywords')\n"
   ]
  },
  {
   "cell_type": "code",
   "execution_count": 37,
   "metadata": {
    "collapsed": true
   },
   "outputs": [],
   "source": [
    "d_temp = d2[(d2.histor == 1)][['date_asTime', 'date_delta', 'totAward_float']].sort(['date_asTime'])\n",
    "dateSet = list(set(d_temp['date_asTime']))\n",
    "\n",
    "historSum = []\n",
    "\n",
    "for i in dateSet:\n",
    "    historSum.append(sum(d_temp[(d_temp.date_asTime == i)]['totAward_float']))"
   ]
  },
  {
   "cell_type": "code",
   "execution_count": 38,
   "metadata": {
    "collapsed": false
   },
   "outputs": [
    {
     "name": "stdout",
     "output_type": "stream",
     "text": [
      "History-sum coefficient [ 21.72696447]\n",
      "History-sum intercept 297807.420492\n"
     ]
    },
    {
     "data": {
      "text/plain": [
       "(0, 2500000.0)"
      ]
     },
     "execution_count": 38,
     "metadata": {},
     "output_type": "execute_result"
    },
    {
     "data": {
      "image/png": "[encoded data removed]",
      "text/plain": [
       "<matplotlib.figure.Figure at 0x1b5a8978>"
      ]
     },
     "metadata": {},
     "output_type": "display_data"
    }
   ],
   "source": [
    "xH1 = np.array(list(set(d_temp.date_delta))).reshape(88,1)\n",
    "yH1 = np.array(historSum)\n",
    "\n",
    "rgrH1 = rgr\n",
    "rgrH1.fit(xH1, yH1)\n",
    "\n",
    "print(\"History-sum coefficient {}\".format(rgrH1.coef_))\n",
    "print(\"History-sum intercept {}\".format(rgrH1.intercept_))\n",
    "\n",
    "\n",
    "plt.figure(figsize = (10,10))\n",
    "plt.scatter(xH1 ,yH1, c='m',label = \"summed points\")\n",
    "plt.scatter(xH2, yH, c='plum', label = \"all points\")\n",
    "plt.plot(xH1, rgrH1.predict(xH1), c = 'darkorchid', label = \"regression of summed points\")\n",
    "plt.xlabel('year')\n",
    "plt.ylabel('$')\n",
    "plt.title('sum of \"history\"-like keywords')\n",
    "plt.xlim(xmin = 0, xmax = 7000)\n",
    "plt.legend(loc='upper left')\n",
    "plt.ylim(ymin = 0, ymax = 2.5E6)\n"
   ]
  },
  {
   "cell_type": "markdown",
   "metadata": {},
   "source": [
    "###...\"education\""
   ]
  },
  {
   "cell_type": "code",
   "execution_count": 41,
   "metadata": {
    "collapsed": false
   },
   "outputs": [
    {
     "name": "stdout",
     "output_type": "stream",
     "text": [
      "13594 set([0, 1])\n"
     ]
    }
   ],
   "source": [
    "educatDum = []\n",
    "\n",
    "for f in d.titleList:\n",
    "    if re.search(\"educat\", str(f)):\n",
    "        educatDum.append(1)\n",
    "    elif re.search(\"Educat\", str(f)):\n",
    "        educatDum.append(1)\n",
    "    else:\n",
    "        educatDum.append(0)\n",
    "\n",
    "print len(educatDum), set(educatDum)"
   ]
  },
  {
   "cell_type": "code",
   "execution_count": 43,
   "metadata": {
    "collapsed": false
   },
   "outputs": [
    {
     "name": "stdout",
     "output_type": "stream",
     "text": [
      "(13594, 13581)\n"
     ]
    }
   ],
   "source": [
    "d3 = d\n",
    "d3['educat'] = educatDum\n",
    "\n",
    "d3 = d3[~pd.isnull(d3.date_asTime)]\n",
    "\n",
    "print(len(d), len(d3))"
   ]
  },
  {
   "cell_type": "code",
   "execution_count": 46,
   "metadata": {
    "collapsed": true
   },
   "outputs": [],
   "source": [
    "d_temp = d3[(d3.educat == 1)][['date_asTime', 'date_delta', 'totAward_float']].sort(['date_asTime'])\n",
    "dateSet = list(set(d_temp['date_asTime']))\n",
    "\n",
    "educatSum = []\n",
    "\n",
    "for i in dateSet:\n",
    "    educatSum.append(sum(d_temp[(d_temp.date_asTime == i)]['totAward_float']))"
   ]
  },
  {
   "cell_type": "code",
   "execution_count": 47,
   "metadata": {
    "collapsed": false
   },
   "outputs": [
    {
     "name": "stdout",
     "output_type": "stream",
     "text": [
      "(313, 79)\n"
     ]
    }
   ],
   "source": [
    "print(len(d3[d3.educat ==1]),len(educatSum))"
   ]
  },
  {
   "cell_type": "code",
   "execution_count": 51,
   "metadata": {
    "collapsed": false
   },
   "outputs": [
    {
     "name": "stdout",
     "output_type": "stream",
     "text": [
      "educate-sum coefficient [ 56.58696295]\n",
      "educate-sum intercept 718043.399321\n"
     ]
    },
    {
     "data": {
      "text/plain": [
       "(0, 8000000.0)"
      ]
     },
     "execution_count": 51,
     "metadata": {},
     "output_type": "execute_result"
    },
    {
     "data": {
      "image/png": "[encoded data removed]",
      "text/plain": [
       "<matplotlib.figure.Figure at 0x1f122a20>"
      ]
     },
     "metadata": {},
     "output_type": "display_data"
    }
   ],
   "source": [
    "xE = (d3[(d3.educat==1)].date_asTime).reshape(313, 1)\n",
    "xE2 = (d3[(d3.educat==1)].date_delta).reshape(313, 1)  #for later\n",
    "yE = (d3[(d3.educat==1)].totAward_float).reshape(313, 1)\n",
    "\n",
    "\n",
    "xE1 = np.array(list(set(d_temp.date_delta))).reshape(79,1)\n",
    "yE1 = np.array(educatSum)\n",
    "\n",
    "rgrE1 = rgr\n",
    "rgrE1.fit(xE1, yE1)\n",
    "\n",
    "print(\"educate-sum coefficient {}\".format(rgrE1.coef_))\n",
    "print(\"educate-sum intercept {}\".format(rgrE1.intercept_))\n",
    "\n",
    "\n",
    "plt.figure(figsize = (10,10))\n",
    "\n",
    "plt.scatter(xE2, yE, c='turquoise', label = \"all points\")\n",
    "plt.scatter(xE1 ,yE1, c='midnightblue',label = \"summed points\")\n",
    "plt.plot(xE1, rgrE1.predict(xE1), c = 'b', label = \"regression of summed points\")\n",
    "\n",
    "plt.xlabel('year')\n",
    "plt.ylabel('$')\n",
    "plt.title('sum of \"educate\"-like keywords')\n",
    "plt.xlim(xmin = 0, xmax = 7000)\n",
    "plt.legend(loc='upper left')\n",
    "plt.ylim(ymin = 0, ymax = 8E6)\n"
   ]
  },
  {
   "cell_type": "markdown",
   "metadata": {},
   "source": [
    "###...\"data\""
   ]
  },
  {
   "cell_type": "code",
   "execution_count": 52,
   "metadata": {
    "collapsed": false
   },
   "outputs": [
    {
     "name": "stdout",
     "output_type": "stream",
     "text": [
      "13594 set([0, 1])\n"
     ]
    }
   ],
   "source": [
    "dataDum = []\n",
    "\n",
    "for f in d.titleList:\n",
    "    if re.search(\"data\", str(f)):\n",
    "        dataDum.append(1)\n",
    "    elif re.search(\"Data\", str(f)):\n",
    "        dataDum.append(1)\n",
    "    else:\n",
    "        dataDum.append(0)\n",
    "\n",
    "print len(dataDum), set(dataDum)"
   ]
  },
  {
   "cell_type": "code",
   "execution_count": 53,
   "metadata": {
    "collapsed": false
   },
   "outputs": [
    {
     "name": "stdout",
     "output_type": "stream",
     "text": [
      "(13594, 13581)\n"
     ]
    }
   ],
   "source": [
    "d2 = d\n",
    "d2['data'] = dataDum\n",
    "\n",
    "d2 = d2[~pd.isnull(d2.date_asTime)]\n",
    "\n",
    "print(len(d), len(d2))"
   ]
  },
  {
   "cell_type": "code",
   "execution_count": 54,
   "metadata": {
    "collapsed": true
   },
   "outputs": [],
   "source": [
    "d_temp = d2[(d2.data == 1)][['date_asTime', 'date_delta', 'totAward_float']].sort(['date_asTime'])\n",
    "dateSet = list(set(d_temp['date_asTime']))\n",
    "\n",
    "dataSum = []\n",
    "\n",
    "for i in dateSet:\n",
    "    dataSum.append(sum(d_temp[(d_temp.date_asTime == i)]['totAward_float']))"
   ]
  },
  {
   "cell_type": "code",
   "execution_count": 55,
   "metadata": {
    "collapsed": false
   },
   "outputs": [
    {
     "name": "stdout",
     "output_type": "stream",
     "text": [
      "(117, 52)\n"
     ]
    }
   ],
   "source": [
    "print(len(d2[d2.data ==1]),len(dataSum))"
   ]
  },
  {
   "cell_type": "code",
   "execution_count": 68,
   "metadata": {
    "collapsed": false
   },
   "outputs": [
    {
     "name": "stdout",
     "output_type": "stream",
     "text": [
      "data-sum coefficient [ 49.05656834]\n",
      "data-sum intercept 211644.578635\n",
      "2015 predicted spending [ 559946.21383885]\n",
      "2020 predicted spending [ 653153.69368225]\n"
     ]
    },
    {
     "data": {
      "text/plain": [
       "(0, 1600000.0)"
      ]
     },
     "execution_count": 68,
     "metadata": {},
     "output_type": "execute_result"
    },
    {
     "data": {
      "image/png": "[encoded data removed]",
      "text/plain": [
       "<matplotlib.figure.Figure at 0x1fe0beb8>"
      ]
     },
     "metadata": {},
     "output_type": "display_data"
    }
   ],
   "source": [
    "#xE = (d2[(d2.educat==1)].date_asTime).reshape(117, 1)\n",
    "xD = (d2[(d2.data==1)].date_delta).reshape(117, 1)\n",
    "yD = (d2[(d2.data==1)].totAward_float).reshape(117, 1)\n",
    "\n",
    "\n",
    "xD1 = np.array(list(set(d_temp.date_delta))).reshape(52,1)\n",
    "yD1 = np.array(dataSum)\n",
    "\n",
    "rgrD1 = rgr\n",
    "rgrD1.fit(xD1, yD1)\n",
    "\n",
    "print(\"data-sum coefficient {}\".format(rgrD1.coef_))\n",
    "print(\"data-sum intercept {}\".format(rgrD1.intercept_))\n",
    "print(\"2015 predicted spending {}\".format(rgrD1.predict(7100)))\n",
    "print(\"2020 predicted spending {}\".format(rgrD1.predict(9000)))\n",
    "\n",
    "\n",
    "plt.figure(figsize = (10,10))\n",
    "\n",
    "plt.scatter(xD, yD, c='khaki', label = \"all points\")\n",
    "plt.scatter(xD1 ,yD1, c='chocolate',label = \"summed points\")\n",
    "plt.plot(xD1, rgrD1.predict(xD1), c = 'brown', label = \"regression of summed points\")\n",
    "\n",
    "plt.xlabel('year')\n",
    "plt.ylabel('$')\n",
    "plt.title('sum of \"data\" keywords')\n",
    "plt.xlim(xmin = 0, xmax = 7000)\n",
    "plt.legend(loc='upper left')\n",
    "plt.ylim(ymin = 0, ymax = 1.6E6)\n"
   ]
  },
  {
   "cell_type": "markdown",
   "metadata": {},
   "source": [
    "###...\"science\""
   ]
  },
  {
   "cell_type": "code",
   "execution_count": 69,
   "metadata": {
    "collapsed": false
   },
   "outputs": [
    {
     "name": "stdout",
     "output_type": "stream",
     "text": [
      "13594 set([0, 1])\n"
     ]
    }
   ],
   "source": [
    "sciDum = []\n",
    "\n",
    "for f in d.titleList:\n",
    "    if re.search(\"scien\", str(f)):\n",
    "        sciDum.append(1)\n",
    "    elif re.search(\"Scien\", str(f)):\n",
    "        sciDum.append(1)\n",
    "    else:\n",
    "        sciDum.append(0)\n",
    "\n",
    "print len(sciDum), set(sciDum)"
   ]
  },
  {
   "cell_type": "code",
   "execution_count": 70,
   "metadata": {
    "collapsed": false
   },
   "outputs": [
    {
     "name": "stdout",
     "output_type": "stream",
     "text": [
      "(13594, 13581)\n"
     ]
    }
   ],
   "source": [
    "d2 = d\n",
    "d2['sci'] = sciDum\n",
    "\n",
    "d2 = d2[~pd.isnull(d2.date_asTime)]\n",
    "\n",
    "print(len(d), len(d2))"
   ]
  },
  {
   "cell_type": "code",
   "execution_count": 71,
   "metadata": {
    "collapsed": true
   },
   "outputs": [],
   "source": [
    "d_temp = d2[(d2.sci == 1)][['date_asTime', 'date_delta', 'totAward_float']].sort(['date_asTime'])\n",
    "dateSet = list(set(d_temp['date_asTime']))\n",
    "\n",
    "sciSum = []\n",
    "\n",
    "for i in dateSet:\n",
    "    sciSum.append(sum(d_temp[(d_temp.date_asTime == i)]['totAward_float']))"
   ]
  },
  {
   "cell_type": "code",
   "execution_count": 73,
   "metadata": {
    "collapsed": false
   },
   "outputs": [
    {
     "name": "stdout",
     "output_type": "stream",
     "text": [
      "(165, 65)\n"
     ]
    }
   ],
   "source": [
    "print(len(d2[d2.sci ==1]),len(sciSum))"
   ]
  },
  {
   "cell_type": "code",
   "execution_count": 75,
   "metadata": {
    "collapsed": false
   },
   "outputs": [
    {
     "name": "stdout",
     "output_type": "stream",
     "text": [
      "data-sum coefficient [-37.68590287]\n",
      "data-sum intercept 737739.932652\n",
      "2015 predicted spending [ 470170.02230563]\n",
      "2020 predicted spending [ 398566.80686083]\n"
     ]
    },
    {
     "data": {
      "text/plain": [
       "(0, 3000000.0)"
      ]
     },
     "execution_count": 75,
     "metadata": {},
     "output_type": "execute_result"
    },
    {
     "data": {
      "image/png": "[encoded data removed]",
      "text/plain": [
       "<matplotlib.figure.Figure at 0x1f8b56a0>"
      ]
     },
     "metadata": {},
     "output_type": "display_data"
    }
   ],
   "source": [
    "xS = (d2[(d2.sci==1)].date_delta).reshape(165, 1)\n",
    "yS = (d2[(d2.sci==1)].totAward_float).reshape(165, 1)\n",
    "\n",
    "\n",
    "xS1 = np.array(list(set(d_temp.date_delta))).reshape(65,1)\n",
    "yS1 = np.array(sciSum)\n",
    "\n",
    "rgrS = rgr\n",
    "rgrS.fit(xS1, yS1)\n",
    "\n",
    "print(\"data-sum coefficient {}\".format(rgrS.coef_))\n",
    "print(\"data-sum intercept {}\".format(rgrS.intercept_))\n",
    "print(\"2015 predicted spending {}\".format(rgrS.predict(7100)))\n",
    "print(\"2020 predicted spending {}\".format(rgrS.predict(9000)))\n",
    "\n",
    "\n",
    "plt.figure(figsize = (10,10))\n",
    "\n",
    "plt.scatter(xS, yS, c='lightsage', label = \"all points\")\n",
    "plt.scatter(xS1 ,yS1, c='mediumspringgreen',label = \"summed points\")\n",
    "plt.plot(xS1, rgrS.predict(xS1), c = 'g', label = \"regression of summed points\")\n",
    "\n",
    "plt.xlabel('year')\n",
    "plt.ylabel('$')\n",
    "plt.title('sum of \"science\" keywords')\n",
    "plt.xlim(xmin = 0, xmax = 7000)\n",
    "plt.legend(loc='upper left')\n",
    "plt.ylim(ymin = 0, ymax = 3E6)\n"
   ]
  },
  {
   "cell_type": "code",
   "execution_count": null,
   "metadata": {
    "collapsed": true
   },
   "outputs": [],
   "source": []
  }
 ],
 "metadata": {
  "kernelspec": {
   "display_name": "Python 2",
   "language": "python",
   "name": "python2"
  },
  "language_info": {
   "codemirror_mode": {
    "name": "ipython",
    "version": 2
   },
   "file_extension": ".py",
   "mimetype": "text/x-python",
   "name": "python",
   "nbconvert_exporter": "python",
   "pygments_lexer": "ipython2",
   "version": "2.7.10"
  }
 },
 "nbformat": 4,
 "nbformat_minor": 0
}
